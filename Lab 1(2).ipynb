{
 "cells": [
  {
   "cell_type": "code",
   "execution_count": 1,
   "id": "f85b9baa",
   "metadata": {},
   "outputs": [],
   "source": [
    "from sklearn.linear_model import Perceptron\n",
    "%matplotlib inline\n",
    "import pandas as pd\n",
    "from matplotlib import pyplot as plt"
   ]
  },
  {
   "cell_type": "code",
   "execution_count": 2,
   "id": "df38d001",
   "metadata": {},
   "outputs": [
    {
     "data": {
      "text/html": [
       "<div>\n",
       "<style scoped>\n",
       "    .dataframe tbody tr th:only-of-type {\n",
       "        vertical-align: middle;\n",
       "    }\n",
       "\n",
       "    .dataframe tbody tr th {\n",
       "        vertical-align: top;\n",
       "    }\n",
       "\n",
       "    .dataframe thead th {\n",
       "        text-align: right;\n",
       "    }\n",
       "</style>\n",
       "<table border=\"1\" class=\"dataframe\">\n",
       "  <thead>\n",
       "    <tr style=\"text-align: right;\">\n",
       "      <th></th>\n",
       "      <th>Pclass</th>\n",
       "      <th>Sex</th>\n",
       "      <th>Age</th>\n",
       "      <th>SibSp</th>\n",
       "      <th>Parch</th>\n",
       "      <th>Fare</th>\n",
       "      <th>Cabin</th>\n",
       "      <th>Survived</th>\n",
       "    </tr>\n",
       "  </thead>\n",
       "  <tbody>\n",
       "    <tr>\n",
       "      <th>0</th>\n",
       "      <td>3</td>\n",
       "      <td>male</td>\n",
       "      <td>22.0</td>\n",
       "      <td>1</td>\n",
       "      <td>0</td>\n",
       "      <td>7.2500</td>\n",
       "      <td>NaN</td>\n",
       "      <td>0</td>\n",
       "    </tr>\n",
       "    <tr>\n",
       "      <th>1</th>\n",
       "      <td>1</td>\n",
       "      <td>female</td>\n",
       "      <td>38.0</td>\n",
       "      <td>1</td>\n",
       "      <td>0</td>\n",
       "      <td>71.2833</td>\n",
       "      <td>C85</td>\n",
       "      <td>1</td>\n",
       "    </tr>\n",
       "    <tr>\n",
       "      <th>2</th>\n",
       "      <td>3</td>\n",
       "      <td>female</td>\n",
       "      <td>26.0</td>\n",
       "      <td>0</td>\n",
       "      <td>0</td>\n",
       "      <td>7.9250</td>\n",
       "      <td>NaN</td>\n",
       "      <td>1</td>\n",
       "    </tr>\n",
       "    <tr>\n",
       "      <th>3</th>\n",
       "      <td>1</td>\n",
       "      <td>female</td>\n",
       "      <td>35.0</td>\n",
       "      <td>1</td>\n",
       "      <td>0</td>\n",
       "      <td>53.1000</td>\n",
       "      <td>C123</td>\n",
       "      <td>1</td>\n",
       "    </tr>\n",
       "    <tr>\n",
       "      <th>4</th>\n",
       "      <td>3</td>\n",
       "      <td>male</td>\n",
       "      <td>35.0</td>\n",
       "      <td>0</td>\n",
       "      <td>0</td>\n",
       "      <td>8.0500</td>\n",
       "      <td>NaN</td>\n",
       "      <td>0</td>\n",
       "    </tr>\n",
       "    <tr>\n",
       "      <th>5</th>\n",
       "      <td>3</td>\n",
       "      <td>male</td>\n",
       "      <td>NaN</td>\n",
       "      <td>0</td>\n",
       "      <td>0</td>\n",
       "      <td>8.4583</td>\n",
       "      <td>NaN</td>\n",
       "      <td>0</td>\n",
       "    </tr>\n",
       "    <tr>\n",
       "      <th>6</th>\n",
       "      <td>1</td>\n",
       "      <td>male</td>\n",
       "      <td>54.0</td>\n",
       "      <td>0</td>\n",
       "      <td>0</td>\n",
       "      <td>51.8625</td>\n",
       "      <td>E46</td>\n",
       "      <td>0</td>\n",
       "    </tr>\n",
       "    <tr>\n",
       "      <th>7</th>\n",
       "      <td>3</td>\n",
       "      <td>male</td>\n",
       "      <td>2.0</td>\n",
       "      <td>3</td>\n",
       "      <td>1</td>\n",
       "      <td>21.0750</td>\n",
       "      <td>NaN</td>\n",
       "      <td>0</td>\n",
       "    </tr>\n",
       "    <tr>\n",
       "      <th>8</th>\n",
       "      <td>3</td>\n",
       "      <td>female</td>\n",
       "      <td>27.0</td>\n",
       "      <td>0</td>\n",
       "      <td>2</td>\n",
       "      <td>11.1333</td>\n",
       "      <td>NaN</td>\n",
       "      <td>1</td>\n",
       "    </tr>\n",
       "    <tr>\n",
       "      <th>9</th>\n",
       "      <td>2</td>\n",
       "      <td>female</td>\n",
       "      <td>14.0</td>\n",
       "      <td>1</td>\n",
       "      <td>0</td>\n",
       "      <td>30.0708</td>\n",
       "      <td>NaN</td>\n",
       "      <td>1</td>\n",
       "    </tr>\n",
       "  </tbody>\n",
       "</table>\n",
       "</div>"
      ],
      "text/plain": [
       "   Pclass     Sex   Age  SibSp  Parch     Fare Cabin  Survived\n",
       "0       3    male  22.0      1      0   7.2500   NaN         0\n",
       "1       1  female  38.0      1      0  71.2833   C85         1\n",
       "2       3  female  26.0      0      0   7.9250   NaN         1\n",
       "3       1  female  35.0      1      0  53.1000  C123         1\n",
       "4       3    male  35.0      0      0   8.0500   NaN         0\n",
       "5       3    male   NaN      0      0   8.4583   NaN         0\n",
       "6       1    male  54.0      0      0  51.8625   E46         0\n",
       "7       3    male   2.0      3      1  21.0750   NaN         0\n",
       "8       3  female  27.0      0      2  11.1333   NaN         1\n",
       "9       2  female  14.0      1      0  30.0708   NaN         1"
      ]
     },
     "execution_count": 2,
     "metadata": {},
     "output_type": "execute_result"
    }
   ],
   "source": [
    "data = pd.read_csv(\"C:/Users/javie/Universidad/Trimestre 3/Machine Learning 2/Laboratorio 1/titanic/train.csv\")\n",
    "data.head(n=10)[['Pclass', 'Sex', 'Age', 'SibSp', 'Parch', 'Fare', 'Cabin', 'Survived']]"
   ]
  },
  {
   "cell_type": "code",
   "execution_count": 3,
   "id": "77048a51",
   "metadata": {},
   "outputs": [],
   "source": [
    "# Se rellena los campos de edad vacíos con el promedio de edad.\n",
    "data['Age'] = data['Age'].fillna(data['Age'].dropna().mean())\n",
    "# Se cambio NaN de la columna cabina por \"Unknown\" para evitar eliminar una gran cantidad de datos durante la limpieza.\n",
    "data['Cabin'] = data['Cabin'].fillna('Unknown')\n",
    "# Drop a valores Na\n",
    "data = data.dropna()"
   ]
  },
  {
   "cell_type": "code",
   "execution_count": 4,
   "id": "47638f77",
   "metadata": {},
   "outputs": [],
   "source": [
    "gender = set(data['Sex'].values)\n",
    "gender = dict(zip(gender, range(len(gender))))\n",
    "data['Sex'] = data['Sex'].map(lambda value: gender[value])"
   ]
  },
  {
   "cell_type": "code",
   "execution_count": 5,
   "id": "8a403b00",
   "metadata": {},
   "outputs": [],
   "source": [
    "has_cabin = set(data['Cabin'].values)\n",
    "has_cabin = dict(zip(has_cabin, range(len(has_cabin))))\n",
    "data['Cabin'] = data['Cabin'].map(lambda cabin: has_cabin[cabin] != 83)\n",
    "data['Cabin'] = data['Cabin'].map(lambda hasCabin: 0 if not hasCabin else 1)"
   ]
  },
  {
   "cell_type": "code",
   "execution_count": 6,
   "id": "77fd9a65",
   "metadata": {},
   "outputs": [
    {
     "data": {
      "text/html": [
       "<div>\n",
       "<style scoped>\n",
       "    .dataframe tbody tr th:only-of-type {\n",
       "        vertical-align: middle;\n",
       "    }\n",
       "\n",
       "    .dataframe tbody tr th {\n",
       "        vertical-align: top;\n",
       "    }\n",
       "\n",
       "    .dataframe thead th {\n",
       "        text-align: right;\n",
       "    }\n",
       "</style>\n",
       "<table border=\"1\" class=\"dataframe\">\n",
       "  <thead>\n",
       "    <tr style=\"text-align: right;\">\n",
       "      <th></th>\n",
       "      <th>Pclass</th>\n",
       "      <th>Sex</th>\n",
       "      <th>Age</th>\n",
       "      <th>SibSp</th>\n",
       "      <th>Parch</th>\n",
       "      <th>Fare</th>\n",
       "      <th>Cabin</th>\n",
       "      <th>Survived</th>\n",
       "    </tr>\n",
       "  </thead>\n",
       "  <tbody>\n",
       "    <tr>\n",
       "      <th>0</th>\n",
       "      <td>3</td>\n",
       "      <td>1</td>\n",
       "      <td>22.000000</td>\n",
       "      <td>1</td>\n",
       "      <td>0</td>\n",
       "      <td>7.2500</td>\n",
       "      <td>1</td>\n",
       "      <td>0</td>\n",
       "    </tr>\n",
       "    <tr>\n",
       "      <th>1</th>\n",
       "      <td>1</td>\n",
       "      <td>0</td>\n",
       "      <td>38.000000</td>\n",
       "      <td>1</td>\n",
       "      <td>0</td>\n",
       "      <td>71.2833</td>\n",
       "      <td>1</td>\n",
       "      <td>1</td>\n",
       "    </tr>\n",
       "    <tr>\n",
       "      <th>2</th>\n",
       "      <td>3</td>\n",
       "      <td>0</td>\n",
       "      <td>26.000000</td>\n",
       "      <td>0</td>\n",
       "      <td>0</td>\n",
       "      <td>7.9250</td>\n",
       "      <td>1</td>\n",
       "      <td>1</td>\n",
       "    </tr>\n",
       "    <tr>\n",
       "      <th>3</th>\n",
       "      <td>1</td>\n",
       "      <td>0</td>\n",
       "      <td>35.000000</td>\n",
       "      <td>1</td>\n",
       "      <td>0</td>\n",
       "      <td>53.1000</td>\n",
       "      <td>1</td>\n",
       "      <td>1</td>\n",
       "    </tr>\n",
       "    <tr>\n",
       "      <th>4</th>\n",
       "      <td>3</td>\n",
       "      <td>1</td>\n",
       "      <td>35.000000</td>\n",
       "      <td>0</td>\n",
       "      <td>0</td>\n",
       "      <td>8.0500</td>\n",
       "      <td>1</td>\n",
       "      <td>0</td>\n",
       "    </tr>\n",
       "    <tr>\n",
       "      <th>5</th>\n",
       "      <td>3</td>\n",
       "      <td>1</td>\n",
       "      <td>29.699118</td>\n",
       "      <td>0</td>\n",
       "      <td>0</td>\n",
       "      <td>8.4583</td>\n",
       "      <td>1</td>\n",
       "      <td>0</td>\n",
       "    </tr>\n",
       "    <tr>\n",
       "      <th>6</th>\n",
       "      <td>1</td>\n",
       "      <td>1</td>\n",
       "      <td>54.000000</td>\n",
       "      <td>0</td>\n",
       "      <td>0</td>\n",
       "      <td>51.8625</td>\n",
       "      <td>1</td>\n",
       "      <td>0</td>\n",
       "    </tr>\n",
       "    <tr>\n",
       "      <th>7</th>\n",
       "      <td>3</td>\n",
       "      <td>1</td>\n",
       "      <td>2.000000</td>\n",
       "      <td>3</td>\n",
       "      <td>1</td>\n",
       "      <td>21.0750</td>\n",
       "      <td>1</td>\n",
       "      <td>0</td>\n",
       "    </tr>\n",
       "    <tr>\n",
       "      <th>8</th>\n",
       "      <td>3</td>\n",
       "      <td>0</td>\n",
       "      <td>27.000000</td>\n",
       "      <td>0</td>\n",
       "      <td>2</td>\n",
       "      <td>11.1333</td>\n",
       "      <td>1</td>\n",
       "      <td>1</td>\n",
       "    </tr>\n",
       "    <tr>\n",
       "      <th>9</th>\n",
       "      <td>2</td>\n",
       "      <td>0</td>\n",
       "      <td>14.000000</td>\n",
       "      <td>1</td>\n",
       "      <td>0</td>\n",
       "      <td>30.0708</td>\n",
       "      <td>1</td>\n",
       "      <td>1</td>\n",
       "    </tr>\n",
       "  </tbody>\n",
       "</table>\n",
       "</div>"
      ],
      "text/plain": [
       "   Pclass  Sex        Age  SibSp  Parch     Fare  Cabin  Survived\n",
       "0       3    1  22.000000      1      0   7.2500      1         0\n",
       "1       1    0  38.000000      1      0  71.2833      1         1\n",
       "2       3    0  26.000000      0      0   7.9250      1         1\n",
       "3       1    0  35.000000      1      0  53.1000      1         1\n",
       "4       3    1  35.000000      0      0   8.0500      1         0\n",
       "5       3    1  29.699118      0      0   8.4583      1         0\n",
       "6       1    1  54.000000      0      0  51.8625      1         0\n",
       "7       3    1   2.000000      3      1  21.0750      1         0\n",
       "8       3    0  27.000000      0      2  11.1333      1         1\n",
       "9       2    0  14.000000      1      0  30.0708      1         1"
      ]
     },
     "execution_count": 6,
     "metadata": {},
     "output_type": "execute_result"
    }
   ],
   "source": [
    "data.head(n=10)[['Pclass', 'Sex', 'Age', 'SibSp', 'Parch', 'Fare', 'Cabin', 'Survived']]"
   ]
  },
  {
   "cell_type": "code",
   "execution_count": 7,
   "id": "02dd044a",
   "metadata": {},
   "outputs": [
    {
     "data": {
      "text/plain": [
       "((889, 7), (889,))"
      ]
     },
     "execution_count": 7,
     "metadata": {},
     "output_type": "execute_result"
    }
   ],
   "source": [
    "# Seleccionamos todos los parámetros relevantes.\n",
    "X = data[['Pclass', 'Sex', 'Age', 'SibSp', 'Parch', 'Fare', 'Cabin']]\n",
    "y = data['Survived']\n",
    "X.shape, y.shape"
   ]
  },
  {
   "cell_type": "code",
   "execution_count": 8,
   "id": "ea9ce847",
   "metadata": {},
   "outputs": [],
   "source": [
    "titanic_data = X.values\n",
    "titanic_data_label = y.values"
   ]
  },
  {
   "cell_type": "code",
   "execution_count": 9,
   "id": "e09561b4",
   "metadata": {},
   "outputs": [],
   "source": [
    "from sklearn.model_selection import train_test_split\n",
    "from sklearn.metrics import roc_curve, roc_auc_score"
   ]
  },
  {
   "cell_type": "code",
   "execution_count": 10,
   "id": "ed5650a7",
   "metadata": {},
   "outputs": [],
   "source": [
    "def evaluate(model, X, y, test_size=0.2, fitted=False):\n",
    "    X_train, X_test, y_train, y_test = train_test_split(X, y, test_size=test_size,\n",
    "                                                        random_state=0, shuffle=True)\n",
    "    if not fitted:\n",
    "        clf = model.fit(X_train, y_train)\n",
    "    else :\n",
    "        clf = model\n",
    "    \n",
    "    try:\n",
    "        pred_train = clf.decision_function(X_train)\n",
    "        pred_test = clf.decision_function(X_test)\n",
    "    \n",
    "        plt.figure(figsize=(16, 6))\n",
    "        plt.subplot(121)\n",
    "        fpr, tpr, _ = roc_curve(y_train, pred_train)\n",
    "        lw = 2\n",
    "        plt.plot(fpr, tpr, color='darkorange',lw=lw, label=\"AUC = %.3f \" % roc_auc_score(y_train, pred_train))\n",
    "        plt.plot([0, 1], [0, 1], color='navy', lw=lw, linestyle='--')\n",
    "        plt.xlim([0, 1.01])\n",
    "        plt.ylim([0, 1.01])\n",
    "        plt.xlabel('False Positive Rate')\n",
    "        plt.ylabel('True Positive Rate')\n",
    "        plt.legend(loc=\"lower right\")\n",
    "        plt.title(\"Training set\")\n",
    "\n",
    "        plt.subplot(122)\n",
    "        fpr, tpr, _ = roc_curve(y_test, pred_test)\n",
    "        lw = 2\n",
    "        plt.plot(fpr, tpr, color='darkorange',lw=lw, label=\"AUC = %.3f \" % roc_auc_score(y_test, pred_test))\n",
    "        plt.plot([0, 1], [0, 1], color='navy', lw=lw, linestyle='--')\n",
    "        plt.xlim([0, 1.01])\n",
    "        plt.ylim([0, 1.01])\n",
    "        plt.xlabel('False Positive Rate')\n",
    "        plt.ylabel('True Positive Rate')\n",
    "        plt.legend(loc=\"lower right\")\n",
    "        plt.title(\"Test set\")\n",
    "    except AttributeError:\n",
    "        try:\n",
    "            pred_train = clf.predict_proba(X_train)\n",
    "            pred_test = clf.predict_proba(X_test)\n",
    "        except AttributeError:\n",
    "            pred_train = clf.predict(X_train)\n",
    "            pred_test = clf.predict(X_test)\n",
    "    \n",
    "        plt.figure(figsize=(16, 6))\n",
    "        plt.subplot(121)\n",
    "        fpr, tpr, _ = roc_curve(y_train, pred_train[:, 1])\n",
    "        lw = 2\n",
    "        plt.plot(fpr, tpr, color='darkorange',lw=lw, label=\"AUC = %.3f \" % roc_auc_score(y_train, pred_train[:, 1]))\n",
    "        plt.plot([0, 1], [0, 1], color='navy', lw=lw, linestyle='--')\n",
    "        plt.xlim([0, 1.01])\n",
    "        plt.ylim([0, 1.01])\n",
    "        plt.xlabel('False Positive Rate')\n",
    "        plt.ylabel('True Positive Rate')\n",
    "        plt.legend(loc=\"lower right\")\n",
    "        plt.title(\"Training set\")\n",
    "\n",
    "        plt.subplot(122)\n",
    "        fpr, tpr, _ = roc_curve(y_test, pred_test[:, 1])\n",
    "        lw = 2\n",
    "        plt.plot(fpr, tpr, color='darkorange',lw=lw, label=\"AUC = %.3f \" % roc_auc_score(y_test, pred_test[:, 1]))\n",
    "        plt.plot([0, 1], [0, 1], color='navy', lw=lw, linestyle='--')\n",
    "        plt.xlim([0, 1.01])\n",
    "        plt.ylim([0, 1.01])\n",
    "        plt.xlabel('False Positive Rate')\n",
    "        plt.ylabel('True Positive Rate')\n",
    "        plt.legend(loc=\"lower right\")\n",
    "        plt.title(\"Test set\")\n",
    "\n",
    "    plt.show()"
   ]
  },
  {
   "cell_type": "code",
   "execution_count": 11,
   "id": "effc734b",
   "metadata": {},
   "outputs": [
    {
     "data": {
      "image/png": "[encoded data removed]",
      "text/plain": [
       "<Figure size 1152x432 with 2 Axes>"
      ]
     },
     "metadata": {
      "needs_background": "light"
     },
     "output_type": "display_data"
    }
   ],
   "source": [
    "evaluate(Perceptron(), X, y)"
   ]
  },
  {
   "cell_type": "code",
   "execution_count": 12,
   "id": "914db513",
   "metadata": {},
   "outputs": [],
   "source": [
    "from sklearn.neural_network import MLPClassifier"
   ]
  },
  {
   "cell_type": "code",
   "execution_count": 13,
   "id": "503366dc",
   "metadata": {},
   "outputs": [
    {
     "name": "stderr",
     "output_type": "stream",
     "text": [
      "C:\\Users\\javie\\anaconda3\\lib\\site-packages\\sklearn\\neural_network\\_multilayer_perceptron.py:549: ConvergenceWarning: lbfgs failed to converge (status=1):\n",
      "STOP: TOTAL NO. of ITERATIONS REACHED LIMIT.\n",
      "\n",
      "Increase the number of iterations (max_iter) or scale the data as shown in:\n",
      "    https://scikit-learn.org/stable/modules/preprocessing.html\n",
      "  self.n_iter_ = _check_optimize_result(\"lbfgs\", opt_res, self.max_iter)\n"
     ]
    },
    {
     "data": {
      "image/png": "[encoded data removed]",
      "text/plain": [
       "<Figure size 1152x432 with 2 Axes>"
      ]
     },
     "metadata": {
      "needs_background": "light"
     },
     "output_type": "display_data"
    }
   ],
   "source": [
    "evaluate(MLPClassifier(alpha=1e-05, hidden_layer_sizes=(9, 2), random_state=1,\n",
    "              solver='lbfgs'), X, y)"
   ]
  },
  {
   "cell_type": "code",
   "execution_count": 14,
   "id": "0ddd9f83",
   "metadata": {},
   "outputs": [],
   "source": [
    "from keras.optimizers import SGD\n",
    "from keras.models import Sequential\n",
    "from keras.layers.core import Dense, Dropout, Activation\n",
    "from sklearn.preprocessing import normalize\n",
    "\n",
    "hidden_units=100 #numero de neuronas\n",
    "hidden_layer_sizes=10\n",
    "activation='relu'\n",
    "solver='adam'\n",
    "alpha=0.0001\n",
    "batch_size='auto'\n",
    "learning_rate='constant'\n",
    "learning_rate_init=0.001 #learning rate keras\n",
    "power_t=0.5\n",
    "max_iter=200\n",
    "shuffle=True\n",
    "random_state=None\n",
    "tol=0.0001\n",
    "verbose=False\n",
    "warm_start=False\n",
    "momentum=0.9\n",
    "nesterovs_momentum=True\n",
    "early_stopping=False\n",
    "validation_fraction=0.1\n",
    "beta_1=0.9\n",
    "beta_2=0.999\n",
    "epsilon=1e-08\n",
    "n_iter_no_change=10"
   ]
  },
  {
   "cell_type": "code",
   "execution_count": 15,
   "id": "6d1aba7b",
   "metadata": {},
   "outputs": [],
   "source": [
    "X_train, X_test, y_train, y_test = train_test_split(normalize(X.values), y.values, test_size=.2,\n",
    "                                                        random_state=0, shuffle=True)"
   ]
  },
  {
   "cell_type": "code",
   "execution_count": 16,
   "id": "d921a2e9",
   "metadata": {},
   "outputs": [
    {
     "name": "stdout",
     "output_type": "stream",
     "text": [
      "Model: \"sequential\"\n",
      "_________________________________________________________________\n",
      " Layer (type)                Output Shape              Param #   \n",
      "=================================================================\n",
      " dense (Dense)               (None, 137)               1096      \n",
      "                                                                 \n",
      " dense_1 (Dense)             (None, 210)               28980     \n",
      "                                                                 \n",
      " dropout (Dropout)           (None, 210)               0         \n",
      "                                                                 \n",
      " dense_2 (Dense)             (None, 211)               44521     \n",
      "                                                                 \n",
      " dense_3 (Dense)             (None, 212)               44944     \n",
      "                                                                 \n",
      " dense_4 (Dense)             (None, 213)               45369     \n",
      "                                                                 \n",
      " dense_5 (Dense)             (None, 214)               45796     \n",
      "                                                                 \n",
      " dropout_1 (Dropout)         (None, 214)               0         \n",
      "                                                                 \n",
      " dense_6 (Dense)             (None, 215)               46225     \n",
      "                                                                 \n",
      " dense_7 (Dense)             (None, 216)               46656     \n",
      "                                                                 \n",
      " dense_8 (Dense)             (None, 217)               47089     \n",
      "                                                                 \n",
      " dense_9 (Dense)             (None, 218)               47524     \n",
      "                                                                 \n",
      " dropout_2 (Dropout)         (None, 218)               0         \n",
      "                                                                 \n",
      " dense_10 (Dense)            (None, 219)               47961     \n",
      "                                                                 \n",
      " dense_11 (Dense)            (None, 2)                 440       \n",
      "                                                                 \n",
      "=================================================================\n",
      "Total params: 446,601\n",
      "Trainable params: 446,601\n",
      "Non-trainable params: 0\n",
      "_________________________________________________________________\n",
      "None\n"
     ]
    }
   ],
   "source": [
    "model = Sequential() # Usamos  Keras y su modelo secuencial.\n",
    "model.add(Dense(137, activation='relu', input_dim=X_train.shape[1]))\n",
    "for i in range(hidden_layer_sizes): #for para numero de capas ocultas.\n",
    "    model.add(Dense((420 + i*2) // 2, activation='relu')) #Utilizamos la función de activación RelU en las capas añadidas.\n",
    "    if (i % 4 == 0): model.add(Dropout(0.5))\n",
    "model.add(Dense(2, activation='sigmoid')) #Añadimos una capa de activación sigmoid como ultima capa.\n",
    "sgd = SGD(learning_rate=0.001, decay=0.9, momentum=0.9, nesterov=True) # optimizador\n",
    "model.compile(loss=\"binary_crossentropy\", optimizer='adam', metrics=[\"accuracy\"])\n",
    "print(model.summary())"
   ]
  },
  {
   "cell_type": "code",
   "execution_count": 17,
   "id": "3fe85ac9",
   "metadata": {},
   "outputs": [
    {
     "name": "stdout",
     "output_type": "stream",
     "text": [
      "Epoch 1/10\n",
      "4/4 [==============================] - 1s 73ms/step - loss: 0.6873 - accuracy: 0.6048 - val_loss: 0.6772 - val_accuracy: 0.5899\n",
      "Epoch 2/10\n",
      "4/4 [==============================] - 0s 10ms/step - loss: 0.6640 - accuracy: 0.6245 - val_loss: 0.6659 - val_accuracy: 0.5899\n",
      "Epoch 3/10\n",
      "4/4 [==============================] - 0s 11ms/step - loss: 0.6419 - accuracy: 0.6245 - val_loss: 0.6552 - val_accuracy: 0.5899\n",
      "Epoch 4/10\n",
      "4/4 [==============================] - 0s 16ms/step - loss: 0.6259 - accuracy: 0.6245 - val_loss: 0.6504 - val_accuracy: 0.5899\n",
      "Epoch 5/10\n",
      "4/4 [==============================] - 0s 11ms/step - loss: 0.6233 - accuracy: 0.6245 - val_loss: 0.6407 - val_accuracy: 0.5899\n",
      "Epoch 6/10\n",
      "4/4 [==============================] - 0s 16ms/step - loss: 0.6107 - accuracy: 0.6245 - val_loss: 0.6486 - val_accuracy: 0.5899\n",
      "Epoch 7/10\n",
      "4/4 [==============================] - 0s 13ms/step - loss: 0.6078 - accuracy: 0.6245 - val_loss: 0.6396 - val_accuracy: 0.5899\n",
      "Epoch 8/10\n",
      "4/4 [==============================] - 0s 10ms/step - loss: 0.6109 - accuracy: 0.6245 - val_loss: 0.6421 - val_accuracy: 0.5899\n",
      "Epoch 9/10\n",
      "4/4 [==============================] - 0s 10ms/step - loss: 0.6085 - accuracy: 0.6371 - val_loss: 0.6474 - val_accuracy: 0.6517\n",
      "Epoch 10/10\n",
      "4/4 [==============================] - 0s 10ms/step - loss: 0.6102 - accuracy: 0.6850 - val_loss: 0.6389 - val_accuracy: 0.6348\n"
     ]
    }
   ],
   "source": [
    "from keras.utils import to_categorical\n",
    "clf = model.fit(X_train, to_categorical(y_train), epochs=10, batch_size=200,\n",
    "              validation_data=(X_test, to_categorical(y_test)))"
   ]
  },
  {
   "cell_type": "code",
   "execution_count": 18,
   "id": "87a8fa23",
   "metadata": {
    "scrolled": false
   },
   "outputs": [
    {
     "name": "stdout",
     "output_type": "stream",
     "text": [
      "23/23 [==============================] - 0s 1ms/step\n",
      "6/6 [==============================] - 0s 3ms/step\n"
     ]
    },
    {
     "data": {
      "image/png": "[encoded data removed]",
      "text/plain": [
       "<Figure size 1152x432 with 2 Axes>"
      ]
     },
     "metadata": {
      "needs_background": "light"
     },
     "output_type": "display_data"
    }
   ],
   "source": [
    "evaluate(model, X.values, y.values, fitted=True)"
   ]
  },
  {
   "cell_type": "markdown",
   "id": "8f386b06",
   "metadata": {},
   "source": []
  },
  {
   "cell_type": "code",
   "execution_count": null,
   "id": "c5a87fa8",
   "metadata": {},
   "outputs": [],
   "source": []
  }
 ],
 "metadata": {
  "kernelspec": {
   "display_name": "Python 3 (ipykernel)",
   "language": "python",
   "name": "python3"
  },
  "language_info": {
   "codemirror_mode": {
    "name": "ipython",
    "version": 3
   },
   "file_extension": ".py",
   "mimetype": "text/x-python",
   "name": "python",
   "nbconvert_exporter": "python",
   "pygments_lexer": "ipython3",
   "version": "3.9.12"
  }
 },
 "nbformat": 4,
 "nbformat_minor": 5
}
